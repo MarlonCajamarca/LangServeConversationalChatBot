{
 "cells": [
  {
   "cell_type": "markdown",
   "id": "424a9d8d",
   "metadata": {},
   "source": [
    "## Run Template\n",
    "\n",
    "In `server.py`, set -\n",
    "```\n",
    "add_routes(app, chain_rag_conv, path=\"/rag_conversation\")\n",
    "```"
   ]
  },
  {
   "cell_type": "code",
   "execution_count": 14,
   "id": "5f521923",
   "metadata": {},
   "outputs": [],
   "source": [
    "from langserve import RemoteRunnable\n",
    "\n",
    "runnable = RemoteRunnable(\"http://localhost:8000/rag-conversation\")"
   ]
  },
  {
   "cell_type": "code",
   "execution_count": 15,
   "id": "679bd83b",
   "metadata": {},
   "outputs": [],
   "source": [
    "question = \"Cuales son los pasos para crear una fuente?\"\n",
    "answer = runnable.invoke(\n",
    "    {\n",
    "        \"question\": question,\n",
    "        \"chat_history\": [],\n",
    "    }\n",
    ")"
   ]
  },
  {
   "cell_type": "code",
   "execution_count": 16,
   "id": "94a05616",
   "metadata": {},
   "outputs": [
    {
     "data": {
      "text/plain": [
       "'Los pasos para crear una fuente son los siguientes:\\n\\n1. Ir a la sección \"Fuentes\" y hacer clic en el botón \"Nueva Fuente\" ubicado en la parte superior derecha.\\n2. Asignar un nombre a la fuente y hacer clic en \"Enviar\".\\n3. Ir al \"Gestor de Archivos\" y agregar los archivos que serán parte de la fuente.'"
      ]
     },
     "execution_count": 16,
     "metadata": {},
     "output_type": "execute_result"
    }
   ],
   "source": [
    "answer"
   ]
  },
  {
   "cell_type": "code",
   "execution_count": 18,
   "id": "ce206c8a",
   "metadata": {},
   "outputs": [],
   "source": [
    "chat_history = [(question, answer)]\n",
    "answer = runnable.invoke(\n",
    "    {\n",
    "        \"question\": \"Pudes explicarme mejor el paso 1?\",\n",
    "        \"chat_history\": chat_history,\n",
    "    }\n",
    ")"
   ]
  },
  {
   "cell_type": "code",
   "execution_count": 19,
   "id": "4626f167",
   "metadata": {},
   "outputs": [
    {
     "data": {
      "text/plain": [
       "'Claro, en el paso 1 para crear una nueva fuente, debes ir a la sección \"Fuentes\". Esta sección probablemente estará ubicada en algún menú o barra de navegación dentro de la plataforma o software que estés utilizando. Una vez que estés en la sección \"Fuentes\", busca el botón que dice \"Nueva Fuente\". Este botón suele estar ubicado en la parte superior derecha de la pantalla. Haz clic en ese botón para iniciar el proceso de creación de la nueva fuente.'"
      ]
     },
     "execution_count": 19,
     "metadata": {},
     "output_type": "execute_result"
    }
   ],
   "source": [
    "answer"
   ]
  }
 ],
 "metadata": {
  "kernelspec": {
   "display_name": "Python 3 (ipykernel)",
   "language": "python",
   "name": "python3"
  },
  "language_info": {
   "codemirror_mode": {
    "name": "ipython",
    "version": 3
   },
   "file_extension": ".py",
   "mimetype": "text/x-python",
   "name": "python",
   "nbconvert_exporter": "python",
   "pygments_lexer": "ipython3",
   "version": "3.10.9"
  }
 },
 "nbformat": 4,
 "nbformat_minor": 5
}
